{
 "cells": [
  {
   "cell_type": "markdown",
   "id": "c469ace0-4e95-4cb3-8847-fc6cd6df8987",
   "metadata": {},
   "source": [
    "2. SQL Challenge (Use SQL for this section)\n",
    "\n",
    "The business would like to understand what the overlap is between 2018 payment totals for their biggest clients and the rank of the overall payment totals within each entity. Note defaults do not count as payments.\n",
    "\n",
    "Please provide a csv containing the client IDs for 2018's top 20 clients when sorted on payment amount, the entity type, 2018's total payment amount, and their overall (across all years) payment amount rank within the entity they belong to. Also include your SQL code."
   ]
  },
  {
   "cell_type": "code",
   "execution_count": 5,
   "id": "c58147ae-9133-4027-81d7-61f39475e195",
   "metadata": {
    "tags": []
   },
   "outputs": [],
   "source": [
    "import pandas as pd\n",
    "\n",
    "from pandasql import sqldf"
   ]
  },
  {
   "cell_type": "code",
   "execution_count": 6,
   "id": "d2dc02a4-719d-44d0-9aad-270e4b425c35",
   "metadata": {
    "tags": []
   },
   "outputs": [],
   "source": [
    "# Load Clients dataFrame:\n",
    "clients = pd.read_csv('Database/Clients.csv')\n",
    "\n",
    "# Load Payments dataFrame:\n",
    "payments = pd.read_csv('Database/Payments.csv')"
   ]
  },
  {
   "cell_type": "markdown",
   "id": "02c84fa0-3f40-4786-81a4-3d3be8deb3a3",
   "metadata": {},
   "source": [
    "### SQL"
   ]
  },
  {
   "cell_type": "code",
   "execution_count": null,
   "id": "4bdc201d-b65d-4084-a3dc-8f64bc99b170",
   "metadata": {
    "tags": []
   },
   "outputs": [],
   "source": [
    "\n",
    "\n",
    "query='''\n",
    "select * from clients\n",
    "order by entity_year_established\n",
    "limit 10\n",
    "'''\n",
    "\n",
    "\n",
    "\n",
    "sqldf(query, env=None)#.to_csv('clientes_ano.csv',index=False)"
   ]
  },
  {
   "cell_type": "code",
   "execution_count": null,
   "id": "7e6d0181-0fb2-4046-8570-cf36e8f84bba",
   "metadata": {},
   "outputs": [],
   "source": []
  }
 ],
 "metadata": {
  "kernelspec": {
   "display_name": "base",
   "language": "python",
   "name": "python3"
  },
  "language_info": {
   "codemirror_mode": {
    "name": "ipython",
    "version": 3
   },
   "file_extension": ".py",
   "mimetype": "text/x-python",
   "name": "python",
   "nbconvert_exporter": "python",
   "pygments_lexer": "ipython3",
   "version": "3.9.13"
  }
 },
 "nbformat": 4,
 "nbformat_minor": 5
}
